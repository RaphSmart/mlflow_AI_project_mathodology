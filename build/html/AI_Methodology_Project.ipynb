{
 "cells": [
  {
   "cell_type": "markdown",
   "id": "7ebc03b2",
   "metadata": {},
   "source": [
    "#                                             AI Methodologies Project"
   ]
  },
  {
   "cell_type": "markdown",
   "id": "1867d4a5",
   "metadata": {},
   "source": [
    "### Importing necessary libraries"
   ]
  },
  {
   "cell_type": "code",
   "execution_count": 53,
   "id": "f1255b96",
   "metadata": {},
   "outputs": [
    {
     "data": {
      "text/plain": [
       "<Experiment: artifact_location='file:///Users/suryatejasista/AI%20methodologies/mlruns/1', creation_time=1676460275309, experiment_id='1', last_update_time=1676460275309, lifecycle_stage='active', name='AI_Project_Methodology', tags={}>"
      ]
     },
     "execution_count": 53,
     "metadata": {},
     "output_type": "execute_result"
    }
   ],
   "source": [
    "import mlflow\n",
    "import mlflow.sklearn\n",
    "import pandas as pd\n",
    "import numpy as np\n",
    "from sklearn.metrics import mean_squared_error, mean_absolute_error, r2_score\n",
    "from sklearn.model_selection import train_test_split\n",
    "from sklearn.linear_model import ElasticNet\n",
    "from sklearn.linear_model import LinearRegression\n",
    "import mlflow\n",
    "import mlflow.sklearn\n",
    "import sys\n",
    "import os\n",
    "\n",
    "# name the experiment and create ml folder\n",
    "mlflow.set_experiment('AI_Project_Methodology')"
   ]
  },
  {
   "cell_type": "code",
   "execution_count": 23,
   "id": "47c53769",
   "metadata": {},
   "outputs": [
    {
     "data": {
      "text/html": [
       "<div>\n",
       "<style scoped>\n",
       "    .dataframe tbody tr th:only-of-type {\n",
       "        vertical-align: middle;\n",
       "    }\n",
       "\n",
       "    .dataframe tbody tr th {\n",
       "        vertical-align: top;\n",
       "    }\n",
       "\n",
       "    .dataframe thead th {\n",
       "        text-align: right;\n",
       "    }\n",
       "</style>\n",
       "<table border=\"1\" class=\"dataframe\">\n",
       "  <thead>\n",
       "    <tr style=\"text-align: right;\">\n",
       "      <th></th>\n",
       "      <th>Car</th>\n",
       "      <th>Model</th>\n",
       "      <th>Volume</th>\n",
       "      <th>Weight</th>\n",
       "      <th>CO2</th>\n",
       "    </tr>\n",
       "  </thead>\n",
       "  <tbody>\n",
       "    <tr>\n",
       "      <th>0</th>\n",
       "      <td>Toyoty</td>\n",
       "      <td>Aygo</td>\n",
       "      <td>1000</td>\n",
       "      <td>790</td>\n",
       "      <td>99</td>\n",
       "    </tr>\n",
       "    <tr>\n",
       "      <th>1</th>\n",
       "      <td>Mitsubishi</td>\n",
       "      <td>Space Star</td>\n",
       "      <td>1200</td>\n",
       "      <td>1160</td>\n",
       "      <td>95</td>\n",
       "    </tr>\n",
       "    <tr>\n",
       "      <th>2</th>\n",
       "      <td>Skoda</td>\n",
       "      <td>Citigo</td>\n",
       "      <td>1000</td>\n",
       "      <td>929</td>\n",
       "      <td>95</td>\n",
       "    </tr>\n",
       "    <tr>\n",
       "      <th>3</th>\n",
       "      <td>Fiat</td>\n",
       "      <td>500</td>\n",
       "      <td>900</td>\n",
       "      <td>865</td>\n",
       "      <td>90</td>\n",
       "    </tr>\n",
       "    <tr>\n",
       "      <th>4</th>\n",
       "      <td>Mini</td>\n",
       "      <td>Cooper</td>\n",
       "      <td>1500</td>\n",
       "      <td>1140</td>\n",
       "      <td>105</td>\n",
       "    </tr>\n",
       "  </tbody>\n",
       "</table>\n",
       "</div>"
      ],
      "text/plain": [
       "          Car       Model  Volume  Weight  CO2\n",
       "0      Toyoty        Aygo    1000     790   99\n",
       "1  Mitsubishi  Space Star    1200    1160   95\n",
       "2       Skoda      Citigo    1000     929   95\n",
       "3        Fiat         500     900     865   90\n",
       "4        Mini      Cooper    1500    1140  105"
      ]
     },
     "execution_count": 23,
     "metadata": {},
     "output_type": "execute_result"
    }
   ],
   "source": [
    "#Reading the data from csv and storing in a variable\n",
    "data_df = pd.read_csv('cars.csv')\n",
    "data_df.head()"
   ]
  },
  {
   "cell_type": "code",
   "execution_count": 48,
   "id": "6141f3d4",
   "metadata": {},
   "outputs": [
    {
     "data": {
      "text/plain": [
       "Car       0\n",
       "Model     0\n",
       "Volume    0\n",
       "Weight    0\n",
       "CO2       0\n",
       "dtype: int64"
      ]
     },
     "execution_count": 48,
     "metadata": {},
     "output_type": "execute_result"
    }
   ],
   "source": [
    "data_df.isnull().sum()"
   ]
  },
  {
   "cell_type": "markdown",
   "id": "1c491a66",
   "metadata": {},
   "source": [
    "### Function for data Pre-processing"
   ]
  },
  {
   "cell_type": "code",
   "execution_count": 39,
   "id": "2a6ba67c",
   "metadata": {},
   "outputs": [],
   "source": [
    "def data_preparation(data_df):\n",
    "    X = data_df.drop([\"Car\", \"Model\", \"CO2\"], axis = 1)\n",
    "    y = data_df[[\"CO2\"]]\n",
    "    return X, y\n",
    "\n",
    "X, y = data_preparation(data_df)"
   ]
  },
  {
   "cell_type": "markdown",
   "id": "031e9643",
   "metadata": {},
   "source": [
    "### Function for training the model"
   ]
  },
  {
   "cell_type": "code",
   "execution_count": 49,
   "id": "7e12fdf9",
   "metadata": {},
   "outputs": [
    {
     "name": "stdout",
     "output_type": "stream",
     "text": [
      "(28, 1)\n"
     ]
    }
   ],
   "source": [
    "def training_model(a, b):\n",
    "    a = data_df.drop([\"Car\", \"Model\", \"CO2\"], axis = 1)\n",
    "    b = data_df[[\"CO2\"]]\n",
    "    X_train, X_test, y_train, y_test = train_test_split(a, b, test_size = 0.2)\n",
    "    print(y_train.shape)\n",
    "    return X_train, X_test, y_train, y_test\n",
    "    \n",
    "X_train, X_test, y_train, y_test = training_model(X, y)"
   ]
  },
  {
   "cell_type": "markdown",
   "id": "e4586e00",
   "metadata": {},
   "source": [
    "### Function for prediction"
   ]
  },
  {
   "cell_type": "code",
   "execution_count": 45,
   "id": "05d923cc",
   "metadata": {},
   "outputs": [
    {
     "data": {
      "text/plain": [
       "array([[102.48424674],\n",
       "       [104.49909067],\n",
       "       [107.14177021],\n",
       "       [ 95.79626041],\n",
       "       [101.77358474],\n",
       "       [100.86768592],\n",
       "       [109.10873136],\n",
       "       [106.62531908]])"
      ]
     },
     "execution_count": 45,
     "metadata": {},
     "output_type": "execute_result"
    }
   ],
   "source": [
    "def Predict(X_train, X_test, y_train, y_test):\n",
    "    lr = LinearRegression()\n",
    "    model = lr.fit(X_train, y_train)\n",
    "    y_pred = model.predict(X_test)\n",
    "    return y_pred\n",
    "\n",
    "Predict(X_train, X_test, y_train, y_test)"
   ]
  },
  {
   "cell_type": "markdown",
   "id": "41c43e12",
   "metadata": {},
   "source": [
    "### Function for Metrics evaluation"
   ]
  },
  {
   "cell_type": "code",
   "execution_count": null,
   "id": "9f680b3a",
   "metadata": {},
   "outputs": [],
   "source": [
    "def eval_metrics(actual, pred):\n",
    "    rmse = np.sqrt(mean_squared_error(actual, pred))\n",
    "    mae = mean_absolute_error(actual, pred)\n",
    "    r2 = r2_score(actual, pred)\n",
    "    return rmse, mae, r2"
   ]
  },
  {
   "cell_type": "markdown",
   "id": "932611c5",
   "metadata": {},
   "source": [
    "## ML flow integration to our project"
   ]
  },
  {
   "cell_type": "code",
   "execution_count": 50,
   "id": "d0db72c6",
   "metadata": {},
   "outputs": [],
   "source": [
    "def train_model(alpha, l1_ratio):\n",
    "    train, test = train_test_split(data_df)\n",
    "#     start mlflow\n",
    "    with mlflow.start_run():\n",
    "        El = ElasticNet(alpha = alpha, l1_ratio = l1_ratio, random_state = 42)\n",
    "        El.fit(X_train, y_train)\n",
    "        \n",
    "        predicted_qualities = El.predict(X_test)\n",
    "        \n",
    "#         print the metrics parameters\n",
    "        (rmse, mae, r2) = eval_metrics(y_test, predicted_qualities)\n",
    "        print(\"ElasticNet model (alpha = %f, l1_ratio = %f):\" % (alpha, l1_ratio))\n",
    "        print(\" RMSE: %s\" % rmse)\n",
    "        print(\" MAE: %s\" % mae)\n",
    "        print(\" R2: %s \" % r2)\n",
    "        \n",
    "#         log mlflow on the parameters\n",
    "        mlflow.log_param(\"alpha\", alpha)\n",
    "        mlflow.log_param(\"l1_ratio\", l1_ratio)\n",
    "        mlflow.log_metric(\"rmse\", rmse)\n",
    "        mlflow.log_metric(\"r2\", r2)\n",
    "        mlflow.log_metric(\"mae\", mae)\n",
    "        \n",
    "#         save the model\n",
    "        mlflow.sklearn.log_model(El, \"model\")"
   ]
  },
  {
   "cell_type": "markdown",
   "id": "475870b0",
   "metadata": {},
   "source": [
    "### Checking with different values"
   ]
  },
  {
   "cell_type": "code",
   "execution_count": 20,
   "id": "c9a53e45",
   "metadata": {},
   "outputs": [
    {
     "name": "stdout",
     "output_type": "stream",
     "text": [
      "ElasticNet model (alpha = 0.500000, l1_ratio = 0.500000):\n",
      " RMSE: 5.582350243148366\n",
      " MAE: 4.638484370084612\n",
      " R2: 0.45669966138367013 \n"
     ]
    }
   ],
   "source": [
    "train_model(0.5, 0.5)"
   ]
  },
  {
   "cell_type": "code",
   "execution_count": 21,
   "id": "63a2e396",
   "metadata": {},
   "outputs": [
    {
     "name": "stdout",
     "output_type": "stream",
     "text": [
      "ElasticNet model (alpha = 0.200000, l1_ratio = 0.200000):\n",
      " RMSE: 8.141104859072199\n",
      " MAE: 7.57453402197484\n",
      " R2: -0.12973161920015297 \n"
     ]
    }
   ],
   "source": [
    "train_model(0.2, 0.2)"
   ]
  },
  {
   "cell_type": "code",
   "execution_count": null,
   "id": "f5084489",
   "metadata": {},
   "outputs": [],
   "source": [
    "train_model(0.4, 0.1)"
   ]
  },
  {
   "cell_type": "code",
   "execution_count": null,
   "id": "d395b99e",
   "metadata": {},
   "outputs": [],
   "source": [
    "train_model(0.1, 0.4)"
   ]
  }
 ],
 "metadata": {
  "kernelspec": {
   "display_name": "Python 3 (ipykernel)",
   "language": "python",
   "name": "python3"
  },
  "language_info": {
   "codemirror_mode": {
    "name": "ipython",
    "version": 3
   },
   "file_extension": ".py",
   "mimetype": "text/x-python",
   "name": "python",
   "nbconvert_exporter": "python",
   "pygments_lexer": "ipython3",
   "version": "3.9.7"
  }
 },
 "nbformat": 4,
 "nbformat_minor": 5
}
