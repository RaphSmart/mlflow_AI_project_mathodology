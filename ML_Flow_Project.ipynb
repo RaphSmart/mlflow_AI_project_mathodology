{
 "cells": [
  {
   "cell_type": "code",
   "execution_count": 4,
   "id": "34fb4742",
   "metadata": {},
   "outputs": [
    {
     "name": "stderr",
     "output_type": "stream",
     "text": [
      "2023/02/13 14:06:43 INFO mlflow.tracking.fluent: Experiment with name 'AI_Project_Methodology' does not exist. Creating a new experiment.\n"
     ]
    },
    {
     "data": {
      "text/plain": [
       "<Experiment: artifact_location='file:///Users/raphsmart/Desktop/EPITA/2ndSemester/AI_Project_Methodology/Project/mlruns/510111486839379242', creation_time=1676293603451, experiment_id='510111486839379242', last_update_time=1676293603451, lifecycle_stage='active', name='AI_Project_Methodology', tags={}>"
      ]
     },
     "execution_count": 4,
     "metadata": {},
     "output_type": "execute_result"
    }
   ],
   "source": [
    "# import libraries\n",
    "import mlflow\n",
    "import mlflow.sklearn\n",
    "\n",
    "# name the experiment and create ml folder\n",
    "mlflow.set_experiment('AI_Project_Methodology')"
   ]
  },
  {
   "cell_type": "code",
   "execution_count": 5,
   "id": "227e6c12",
   "metadata": {},
   "outputs": [],
   "source": [
    "import pandas as pd\n",
    "import numpy as np\n",
    "from sklearn.metrics import mean_squared_error, mean_absolute_error, r2_score\n",
    "from sklearn.model_selection import train_test_split\n",
    "from sklearn.linear_model import ElasticNet\n",
    "import mlflow\n",
    "import mlflow.sklearn\n",
    "import sys\n",
    "import os"
   ]
  },
  {
   "cell_type": "code",
   "execution_count": 6,
   "id": "0d9fc9c1",
   "metadata": {},
   "outputs": [],
   "source": [
    "# create a function to calculate the metrics models\n",
    "\n",
    "def eval_metrics(actual, pred):\n",
    "    rmse = np.sqrt(mean_squared_error(actual, pred))\n",
    "    mae = mean_absolute_error(actual, pred)\n",
    "    r2 = r2_score(actual, pred)\n",
    "    return rmse, mae, r2"
   ]
  },
  {
   "cell_type": "code",
   "execution_count": 9,
   "id": "6f3c1ec2",
   "metadata": {},
   "outputs": [
    {
     "data": {
      "text/html": [
       "<div>\n",
       "<style scoped>\n",
       "    .dataframe tbody tr th:only-of-type {\n",
       "        vertical-align: middle;\n",
       "    }\n",
       "\n",
       "    .dataframe tbody tr th {\n",
       "        vertical-align: top;\n",
       "    }\n",
       "\n",
       "    .dataframe thead th {\n",
       "        text-align: right;\n",
       "    }\n",
       "</style>\n",
       "<table border=\"1\" class=\"dataframe\">\n",
       "  <thead>\n",
       "    <tr style=\"text-align: right;\">\n",
       "      <th></th>\n",
       "      <th>Car</th>\n",
       "      <th>Model</th>\n",
       "      <th>Volume</th>\n",
       "      <th>Weight</th>\n",
       "      <th>CO2</th>\n",
       "    </tr>\n",
       "  </thead>\n",
       "  <tbody>\n",
       "    <tr>\n",
       "      <th>0</th>\n",
       "      <td>Toyoty</td>\n",
       "      <td>Aygo</td>\n",
       "      <td>1000</td>\n",
       "      <td>790</td>\n",
       "      <td>99</td>\n",
       "    </tr>\n",
       "    <tr>\n",
       "      <th>1</th>\n",
       "      <td>Mitsubishi</td>\n",
       "      <td>Space Star</td>\n",
       "      <td>1200</td>\n",
       "      <td>1160</td>\n",
       "      <td>95</td>\n",
       "    </tr>\n",
       "    <tr>\n",
       "      <th>2</th>\n",
       "      <td>Skoda</td>\n",
       "      <td>Citigo</td>\n",
       "      <td>1000</td>\n",
       "      <td>929</td>\n",
       "      <td>95</td>\n",
       "    </tr>\n",
       "    <tr>\n",
       "      <th>3</th>\n",
       "      <td>Fiat</td>\n",
       "      <td>500</td>\n",
       "      <td>900</td>\n",
       "      <td>865</td>\n",
       "      <td>90</td>\n",
       "    </tr>\n",
       "    <tr>\n",
       "      <th>4</th>\n",
       "      <td>Mini</td>\n",
       "      <td>Cooper</td>\n",
       "      <td>1500</td>\n",
       "      <td>1140</td>\n",
       "      <td>105</td>\n",
       "    </tr>\n",
       "  </tbody>\n",
       "</table>\n",
       "</div>"
      ],
      "text/plain": [
       "          Car       Model  Volume  Weight  CO2\n",
       "0      Toyoty        Aygo    1000     790   99\n",
       "1  Mitsubishi  Space Star    1200    1160   95\n",
       "2       Skoda      Citigo    1000     929   95\n",
       "3        Fiat         500     900     865   90\n",
       "4        Mini      Cooper    1500    1140  105"
      ]
     },
     "execution_count": 9,
     "metadata": {},
     "output_type": "execute_result"
    }
   ],
   "source": [
    "data_df = pd.read_csv('data.csv')\n",
    "data_df.head()"
   ]
  },
  {
   "cell_type": "code",
   "execution_count": 13,
   "id": "36c92c9f",
   "metadata": {},
   "outputs": [],
   "source": [
    "# train the model\n",
    "\n",
    "def train_model(alpha, l1_ratio):\n",
    "    train, test = train_test_split(data_df)\n",
    "    \n",
    "#     drop unwanted column\n",
    "    X_train = train.drop([\"Car\", \"Model\", \"CO2\"], axis = 1)\n",
    "    X_test = test.drop([\"Car\", \"Model\", \"CO2\"], axis = 1)\n",
    "    y_train = train[[\"CO2\"]]\n",
    "    y_test = test[[\"CO2\"]]\n",
    "    \n",
    "#     start mlflow\n",
    "    with mlflow.start_run():\n",
    "        El = ElasticNet(alpha = alpha, l1_ratio = l1_ratio, random_state = 42)\n",
    "        El.fit(X_train, y_train)\n",
    "        \n",
    "        predicted_qualities = El.predict(X_test)\n",
    "        \n",
    "#         print the matrics parameters\n",
    "        (rmse, mae, r2) = eval_metrics(y_test, predicted_qualities)\n",
    "        print(\"ElasticNet model (alpha = %f, l1_ratio = %f):\" % (alpha, l1_ratio))\n",
    "        print(\" RMSE: %s\" % rmse)\n",
    "        print(\" MAE: %s\" % mae)\n",
    "        print(\" R2: %s \" % r2)\n",
    "        \n",
    "#         log mlflow on the parameters\n",
    "        mlflow.log_param(\"alpha\", alpha)\n",
    "        mlflow.log_param(\"l1_ratio\", l1_ratio)\n",
    "        mlflow.log_metric(\"rmse\", rmse)\n",
    "        mlflow.log_metric(\"r2\", r2)\n",
    "        mlflow.log_metric(\"mae\", mae)\n",
    "        \n",
    "#         save the model\n",
    "        mlflow.sklearn.log_model(El, \"model\")"
   ]
  },
  {
   "cell_type": "code",
   "execution_count": 14,
   "id": "272f2d0d",
   "metadata": {},
   "outputs": [
    {
     "name": "stdout",
     "output_type": "stream",
     "text": [
      "ElasticNet model (alpha = 0.500000, l1_ratio = 0.500000):\n",
      " RMSE: 7.79258324193735\n",
      " MAE: 7.324586348218769\n",
      " R2: -0.17897234903747572 \n"
     ]
    },
    {
     "name": "stderr",
     "output_type": "stream",
     "text": [
      "/Users/raphsmart/opt/anaconda3/lib/python3.9/site-packages/_distutils_hack/__init__.py:33: UserWarning: Setuptools is replacing distutils.\n",
      "  warnings.warn(\"Setuptools is replacing distutils.\")\n"
     ]
    }
   ],
   "source": [
    "# train the model, run (0.5) argumments for the two parameters\n",
    "train_model(0.5, 0.5)"
   ]
  },
  {
   "cell_type": "code",
   "execution_count": 15,
   "id": "6959fbd7",
   "metadata": {},
   "outputs": [
    {
     "name": "stdout",
     "output_type": "stream",
     "text": [
      "ElasticNet model (alpha = 0.200000, l1_ratio = 0.200000):\n",
      " RMSE: 7.307453916824723\n",
      " MAE: 6.473613125319627\n",
      " R2: -0.7932460623830326 \n"
     ]
    }
   ],
   "source": [
    "# run with different arguments\n",
    "train_model(0.2, 0.2)"
   ]
  },
  {
   "cell_type": "code",
   "execution_count": 16,
   "id": "30504a78",
   "metadata": {},
   "outputs": [
    {
     "name": "stdout",
     "output_type": "stream",
     "text": [
      "ElasticNet model (alpha = 0.100000, l1_ratio = 0.100000):\n",
      " RMSE: 6.241832832875338\n",
      " MAE: 5.097147467189065\n",
      " R2: -0.8262723646981518 \n"
     ]
    }
   ],
   "source": [
    "train_model(0.1, 0.1)"
   ]
  },
  {
   "cell_type": "code",
   "execution_count": 17,
   "id": "6b07deac",
   "metadata": {},
   "outputs": [
    {
     "name": "stdout",
     "output_type": "stream",
     "text": [
      "ElasticNet model (alpha = 0.400000, l1_ratio = 0.100000):\n",
      " RMSE: 6.698250902738894\n",
      " MAE: 6.015873623955027\n",
      " R2: 0.2661163615429253 \n"
     ]
    }
   ],
   "source": [
    "train_model(0.4, 0.1)"
   ]
  },
  {
   "cell_type": "code",
   "execution_count": 18,
   "id": "1900a672",
   "metadata": {},
   "outputs": [
    {
     "name": "stdout",
     "output_type": "stream",
     "text": [
      "ElasticNet model (alpha = 0.100000, l1_ratio = 0.400000):\n",
      " RMSE: 7.648103672678025\n",
      " MAE: 6.771853977991792\n",
      " R2: -0.39680798137692164 \n"
     ]
    }
   ],
   "source": [
    "train_model(0.1, 0.4)"
   ]
  },
  {
   "cell_type": "code",
   "execution_count": null,
   "id": "2b713ee0",
   "metadata": {},
   "outputs": [],
   "source": []
  }
 ],
 "metadata": {
  "kernelspec": {
   "display_name": "Python 3 (ipykernel)",
   "language": "python",
   "name": "python3"
  },
  "language_info": {
   "codemirror_mode": {
    "name": "ipython",
    "version": 3
   },
   "file_extension": ".py",
   "mimetype": "text/x-python",
   "name": "python",
   "nbconvert_exporter": "python",
   "pygments_lexer": "ipython3",
   "version": "3.9.15"
  }
 },
 "nbformat": 4,
 "nbformat_minor": 5
}
